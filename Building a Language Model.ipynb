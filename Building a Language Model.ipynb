{
 "cells": [
  {
   "cell_type": "markdown",
   "metadata": {},
   "source": [
    "# Building a Language Model"
   ]
  },
  {
   "cell_type": "code",
   "execution_count": 83,
   "metadata": {},
   "outputs": [],
   "source": [
    "import mpmath as mp\n",
    "import os\n",
    "import io\n",
    "import sys\n",
    "import psutil\n",
    "import nltk \n",
    "\n",
    "from nltk.tokenize import word_tokenize\n",
    "from nltk.collocations import *\n",
    "from datetime import datetime\n",
    "from collections import Counter"
   ]
  },
  {
   "cell_type": "code",
   "execution_count": 70,
   "metadata": {},
   "outputs": [],
   "source": [
    "from sklearn.model_selection import train_test_split\n",
    "import numpy as np"
   ]
  },
  {
   "cell_type": "markdown",
   "metadata": {},
   "source": [
    "Creating a variable which stores the corpus. This makes the code relatively modular since only the value of the variable has to be changed in order to test with different corpora.\n",
    "\n",
    "The corpus used for testing is the academic1 corpus in the Maltese set."
   ]
  },
  {
   "cell_type": "code",
   "execution_count": 71,
   "metadata": {},
   "outputs": [],
   "source": [
    "path = 'Corpus/academic1.txt'"
   ]
  },
  {
   "cell_type": "markdown",
   "metadata": {},
   "source": [
    "The below function upon called returns the memory currently being used by python.exe in GBs"
   ]
  },
  {
   "cell_type": "code",
   "execution_count": 72,
   "metadata": {},
   "outputs": [],
   "source": [
    "def RAMusage():\n",
    "    pid = os.getpid()\n",
    "    py = psutil.Process(pid)\n",
    "    memoryUse = py.memory_info()[0]/2.**30\n",
    "    print('Memory Use: ', memoryUse, 'GB')"
   ]
  },
  {
   "cell_type": "markdown",
   "metadata": {},
   "source": [
    "Removing Symbols from the Corpus in order for the Language Models, Perplexities and Sentence Generators to focus solely on only words"
   ]
  },
  {
   "cell_type": "code",
   "execution_count": 73,
   "metadata": {},
   "outputs": [],
   "source": [
    "def RemoveSymbols(corpus):\n",
    "    arr = []\n",
    "    symbols = \"“”‘’!\\\"#$€%&()*'+-,./:;<=>?@[\\]^_`{|}~\\n\"\n",
    "    \n",
    "    for i in corpus:\n",
    "        if i not in symbols:\n",
    "            arr.append(i)\n",
    "            \n",
    "    return arr"
   ]
  },
  {
   "cell_type": "markdown",
   "metadata": {},
   "source": [
    "## Other attempts to read corpus in a more efficient manner:\n",
    "\n",
    "I tried to load the all of the corpora into one csv by loading the seperate corpora from my external hard drive. But unfortunately the below code despite reading the files from the path was not able to parse them. If the below worked, the testing would have been on the whole corpus which would have provided better results.\n",
    "\n",
    "rawcorpus_dir = 'E:\\Corpus\\\\'\n",
    "\n",
    "output_dir = 'Corpus\\KorpusMalti.csv'\n",
    "\n",
    "csvout = pd.DataFrame()\n",
    "\n",
    "for filename in os.listdir('Corpus'):\n",
    "\n",
    "    data = pd.read_csv(filename, sep = ':', index_col = 0, header = None)\n",
    "    csvout.csvout.append(data)\n",
    "        \n",
    "csvout.to_csv(output_dir)\n",
    "\n",
    "-------------------------------------------------------------------------------------------------------------------------------"
   ]
  },
  {
   "cell_type": "markdown",
   "metadata": {},
   "source": [
    "After the path is read, the file is stored into a variable 'corpus'. The variable is then preprocessed. This being that the corpus is tokenized and has the symbols removed. The time for the corpus to be loaded and preprocessed and the RAM Usage are monitored and printed. Considering that the corpus being tested in this case is rather small, the corresponing values for time and usage are slow. But the larger the corpus, the longer and less efficient this process becomes."
   ]
  },
  {
   "cell_type": "code",
   "execution_count": 74,
   "metadata": {},
   "outputs": [
    {
     "name": "stdout",
     "output_type": "stream",
     "text": [
      "Memory Use:  0.11214065551757812 GB\n",
      "Extraction Time(HH::MM:SS:ms) - 0:00:01.585000\n",
      "\n",
      "\n"
     ]
    }
   ],
   "source": [
    "extraction_start = datetime.now()\n",
    "\n",
    "file = open(path)\n",
    "corpus = file.read()\n",
    "\n",
    "tokenize = word_tokenize(corpus)\n",
    "tokens = RemoveSymbols(tokenize)\n",
    "\n",
    "extraction_end = datetime.now()\n",
    "\n",
    "extraction_time = dict()\n",
    "extraction_time['extraction_time'] = extraction_end - extraction_start\n",
    "RAMusage()\n",
    "print('Extraction Time(HH::MM:SS:ms) - {}\\n\\n'.format(extraction_time['extraction_time']))"
   ]
  },
  {
   "cell_type": "markdown",
   "metadata": {},
   "source": [
    "The frequency distribution is calculated by the NLTK FreqDist function. But the argument passed is a bigram. The bigram is calculated by appending the iterator with the n word count for the length of the tokens in the corpus. Therefore, say NGrams(tokens, 5) would result in a 5Gram and NGrams(tokens, 3) would result in a Trigram, and so on..."
   ]
  },
  {
   "cell_type": "code",
   "execution_count": 85,
   "metadata": {},
   "outputs": [],
   "source": [
    "def NGrams(words, n):\n",
    "    ngrams = []\n",
    "    \n",
    "    for i in range(0, len(words)):\n",
    "        ngram = ' '.join(words[i:i + n])\n",
    "        ngrams.append(ngram)\n",
    "        \n",
    "    return ngrams\n",
    "\n",
    "bigram = NGrams(tokens, 2)\n",
    "freqdist = nltk.FreqDist(bigram)\n",
    "\n",
    "#The Below is commented in order to not attach a notebook with 30000 lines as a deliverable\n",
    "#for i,j in freqdist.items():\n",
    "    #print(i,j)"
   ]
  },
  {
   "cell_type": "markdown",
   "metadata": {},
   "source": [
    "The function 'Split' given a path as an argument returns the test and training sets obtained from the file. This is achieved by first storing the corpus into a list in order to be acceptable by the 'train_test_split' function, which as the name entails, splits the list into training and test sets of size 34% and 66% respectively."
   ]
  },
  {
   "cell_type": "code",
   "execution_count": 76,
   "metadata": {},
   "outputs": [],
   "source": [
    "def Split(corpus):\n",
    "    \n",
    "    file = open(path)\n",
    "    corpus = file.read()\n",
    "    words = []\n",
    "    \n",
    "    for line in corpus:\n",
    "        \n",
    "        words.append(line)\n",
    "        \n",
    "    train, test = train_test_split(words, test_size = 0.66, train_size = 0.34, shuffle = False)\n",
    "    \n",
    "    return train, test\n",
    "\n",
    "x, y = Split(path)"
   ]
  },
  {
   "cell_type": "markdown",
   "metadata": {},
   "source": [
    "Calculates the Perplexity for the NGram and model. Perplexity is defined as the nth root of 1/ the number of words in the dataset. After total perplexity, this value is raised to 1/N to define the final perplexity."
   ]
  },
  {
   "cell_type": "code",
   "execution_count": 86,
   "metadata": {},
   "outputs": [],
   "source": [
    "def Perplexity(test, model):\n",
    "    \n",
    "    perp = mp.mpf(1)\n",
    "    \n",
    "    N = mp.mpf(0)\n",
    "    \n",
    "    for line in test:\n",
    "        N += len(line)\n",
    "        line = ' '.join(line)\n",
    "        \n",
    "        if model[line] > 0:\n",
    "            perp = perp * (1/model[line])\n",
    "        else:\n",
    "            perp = perp * sys.maxsize\n",
    "            \n",
    "    perp = pow(perp, 1/float(N))\n",
    "    return perp"
   ]
  },
  {
   "cell_type": "markdown",
   "metadata": {},
   "source": [
    "# Part 2 - Building a Language Model"
   ]
  },
  {
   "cell_type": "markdown",
   "metadata": {},
   "source": [
    "## Vanilla"
   ]
  },
  {
   "cell_type": "code",
   "execution_count": 78,
   "metadata": {},
   "outputs": [],
   "source": [
    "def VanillaUnigram(train):\n",
    "    \n",
    "    model = Counter(train)\n",
    "    \n",
    "    for word in model:\n",
    "        model[word] = model[word]/len(train)\n",
    "        \n",
    "    return model\n",
    "\n",
    "def VanillaBigram(train):\n",
    "    \n",
    "    model = Counter([(word, train[i + 1]) for i, word in enumerate(train[:-1])])\n",
    "    counter = Counter(train)\n",
    "    \n",
    "    for word in model:\n",
    "        model[word] = model[word]/counter[word[0]]\n",
    "        \n",
    "    return model\n",
    "\n",
    "def VanillaTrigram(train):\n",
    "    \n",
    "    bigram = Counter([(word, train[i + 1]) for i, word in enumerate(train[:-1])])\n",
    "    trigram = Counter([(word, train[i + 1], train[i + 2]) for i, word in enumerate(train[:-2])])\n",
    "    \n",
    "    for word in trigram:\n",
    "        trigram[word] = trigram[word]/bigram[(word[0], word[1])]\n",
    "        \n",
    "    return trigram"
   ]
  },
  {
   "cell_type": "code",
   "execution_count": 79,
   "metadata": {},
   "outputs": [],
   "source": [
    "a = VanillaUnigram(x)\n",
    "p1 = (Perplexity(y, a))\n",
    "\n",
    "b = VanillaBigram(x)\n",
    "p2 = (Perplexity(y, b))\n",
    "\n",
    "c = VanillaTrigram(x)\n",
    "p3 = (Perplexity(y, c))\n",
    "\n",
    "i1 = (Interpolation(a, b, c, [\"<s>\", \"</s>\"], \"il-\"))"
   ]
  },
  {
   "cell_type": "markdown",
   "metadata": {},
   "source": [
    "## Laplace \n",
    "\n",
    "In essence the laplacian model is an enhanced version of the vanilla model. The enhancement comes from the addition of Laplacian smoothing. This is achieved by adding a + 1 after finding the size of the word, and hence reducing the dividend to a be smaller given a ratio from numerator to denominator. The Laplacian smoothing is applied to all three ngrams being the unigram, bigram and trigram."
   ]
  },
  {
   "cell_type": "code",
   "execution_count": 80,
   "metadata": {},
   "outputs": [],
   "source": [
    "def LaplaceUnigram(train):\n",
    "    \n",
    "    model = Counter(train)\n",
    "    \n",
    "    for word in model:\n",
    "        model[word] = (model[word]+1)/len(train)\n",
    "        \n",
    "    return model\n",
    "\n",
    "def LaplaceBigram(train):\n",
    "    \n",
    "    model = Counter([(word, train[i + 1]) for i, word in enumerate(train[:-1])])\n",
    "    counter = Counter(train)\n",
    "    \n",
    "    for word in model:\n",
    "        model[word] = model[word] + 1/counter[word[0], word[1]]\n",
    "        \n",
    "    return model\n",
    "\n",
    "def LaplaceTrigram(train):\n",
    "    \n",
    "    bigram = Counter([(word, train[i + 1]) for i, word in enumerate(train[:-1])])\n",
    "    trigram = Counter([(word, train[i + 1], train[i + 2]) for i, word in enumerate(train[:-2])])\n",
    "    \n",
    "    for word in trigram:\n",
    "        trigram[word] = trigram[word] + 1 /bigram[(word[0], word[1], word[2])]\n",
    "        \n",
    "    return trigram"
   ]
  },
  {
   "cell_type": "code",
   "execution_count": 81,
   "metadata": {},
   "outputs": [],
   "source": [
    "a2 = LaplaceUnigram(x)\n",
    "p4 = (Perplexity(y, a2))\n",
    "\n",
    "#b2 = LaplaceBigram(x)\n",
    "#p5 = (Perplexity(y, b2))\n",
    "\n",
    "#c2 = LaplaceTrigram(x)\n",
    "#p6 = (Perplexity(y, c2))\n",
    "\n",
    "#i2 = (Interpolation(a2, b2, c2, [\"<s>\", \"</s>\"], \"il\"))"
   ]
  },
  {
   "cell_type": "markdown",
   "metadata": {},
   "source": [
    "## UNK\n",
    "\n",
    "Although based on the Vanilla model (in fact both the bigram and the trigram return a Vanilla bigram and trigram respectively), the UNK Model processes some work before applying the Vanilla Model NGram on to the training set. This language model when presented with a word which is out of the corpus' vocabulary, the model swaps the word to be \"<UNK>\" which stands for an unknown variable."
   ]
  },
  {
   "cell_type": "code",
   "execution_count": 29,
   "metadata": {},
   "outputs": [],
   "source": [
    "def UNKUnigram(train):\n",
    "    \n",
    "    counter = Counter(train)\n",
    "    model = {}\n",
    "    model[\"<UNK>\"] = 0\n",
    "    \n",
    "    for word in counter:\n",
    "        if counter[word] == 1:\n",
    "            model[\"<UNK>\"] += 1\n",
    "            \n",
    "        else:\n",
    "            model[word] = counter[word]\n",
    "            \n",
    "    for word in model:\n",
    "        model[word] = model[word]/len(train)\n",
    "        \n",
    "    return model\n",
    "\n",
    "def UNKBigram(train):\n",
    "    \n",
    "    unigram = UNKUnigram(train)\n",
    "    \n",
    "    for i, word in enumerate(train):\n",
    "        if not (word in unigram):\n",
    "            train[i] = \"<UNK>\"\n",
    "            \n",
    "    return VanillaBigram(train)\n",
    "\n",
    "def UNKTrigram(train):\n",
    "    \n",
    "    unigram = UNKUnigram(train)\n",
    "    \n",
    "    for i, word in enumerate(train):\n",
    "        if not (word in unigram):\n",
    "            train[i] = \"<UNK>\"\n",
    "            \n",
    "    return VanillaTrigram(train)"
   ]
  },
  {
   "cell_type": "code",
   "execution_count": 50,
   "metadata": {},
   "outputs": [],
   "source": [
    "a3 = UNKUnigram(x)\n",
    "#p7 = (Perplexity(y, a3))\n",
    "#The above commented line returns an understood error when running.\n",
    "\n",
    "b3 = UNKBigram(x)\n",
    "p8 = Perplexity(y, b3)\n",
    "\n",
    "c3 = UNKTrigram(x)\n",
    "p9 = (Perplexity(y, c3))\n",
    "\n",
    "#i3 = (Interpolation(a3, b3, c3, [\"<s>\", \"</s>\"], \"il\"))"
   ]
  },
  {
   "cell_type": "markdown",
   "metadata": {},
   "source": [
    "The similarity of results shown in all perplexities of the models, raises some concern. A larger perplexity for the Unigram can be understood especially since there is very small accomodation, and this can be applied for the smaller perplexity for the Bigrams and Trigrams both. But the, similarity across all models note that there is something wrong with the processing of the corpus at hand."
   ]
  },
  {
   "cell_type": "code",
   "execution_count": 67,
   "metadata": {},
   "outputs": [
    {
     "name": "stdout",
     "output_type": "stream",
     "text": [
      "Vanilla Model:  Unigram:  34.9366920882137 Bigram:  9.22337203685476e+18 Trigram:  9.22337203685476e+18 Interpolation:  0.0\n",
      "\n",
      "\n",
      "Laplace Model:  Unigram:  34.9201727634248 Bigram:  Trigram:  Interpolation: \n",
      "\n",
      "\n",
      "UNK Model:  Unigram:  Bigram:  9.22337203685476e+18 Trigram:  9.22337203685476e+18 Interpolation: \n"
     ]
    }
   ],
   "source": [
    "print(\"Vanilla Model: \", \"Unigram: \", p1, \"Bigram: \", p2, \"Trigram: \", p3, \"Interpolation: \", i1)\n",
    "print(\"\\n\")\n",
    "print(\"Laplace Model: \", \"Unigram: \", p4, \"Bigram: \", \"Trigram: \", \"Interpolation: \")\n",
    "print(\"\\n\")\n",
    "print(\"UNK Model: \", \"Unigram: \", \"Bigram: \", p8, \"Trigram: \", p9, \"Interpolation: \")"
   ]
  },
  {
   "cell_type": "markdown",
   "metadata": {},
   "source": [
    "## Probability"
   ]
  },
  {
   "cell_type": "code",
   "execution_count": 15,
   "metadata": {},
   "outputs": [],
   "source": [
    "def UnigramProbability(unigram, sentence, word):\n",
    "    return unigram[word]\n",
    "\n",
    "def BigramProbability(bigram, sentence, word):\n",
    "    if (sentence[-1], word) in bigram:\n",
    "        return bigram[sentence[-1],word]\n",
    "    \n",
    "    else:\n",
    "        return 0\n",
    "    \n",
    "def TrigramProbability(trigram, sentence, word): \n",
    "    if (sentence[-2],sentence[-1], word) in trigram:\n",
    "        return trigram[sentence[-2],sentence[-1],word]\n",
    "    \n",
    "    else:\n",
    "        return 0\n",
    "    \n",
    "def Interpolation(unigram, bigram, trigram, sentence, word):\n",
    "    Unigram = 0.1*(unigram[word])\n",
    "    Bigram = 0.3*(bigram[sentence[-1], word])\n",
    "    Trigram = 0.6*(trigram[sentence[-2], sentence[-1], word])\n",
    "    \n",
    "    return Unigram+Bigram+Trigram"
   ]
  },
  {
   "cell_type": "markdown",
   "metadata": {},
   "source": [
    "## Generate\n",
    "\n",
    "When running the either Generate function on the notebook, the kernel crashes, the age of my laptop does not help either. But when running the .py file, the generate works perfectly. The function calls were commented to avoid any crashes when running."
   ]
  },
  {
   "cell_type": "code",
   "execution_count": 87,
   "metadata": {},
   "outputs": [],
   "source": [
    "def UnigramGenerate(unigram, sentence, last = \"\", count = None):\n",
    "    \n",
    "    if(count != 0 and sentence[-1] != last):\n",
    "        \n",
    "        weights = np.array(list(unigram.values()))\n",
    "        norm = weights/np.sum(weights)\n",
    "        \n",
    "        resample = np.random.multinomial(1, norm)\n",
    "        key = list(resample).index(1)\n",
    "        value = list(unigram.keys())[key]\n",
    "        \n",
    "        sentence.append(value)\n",
    "        if count != None:\n",
    "            UnigramGenerate(unigram, sentence, last, count-1)\n",
    "        else:\n",
    "            UnigramGenerate(unigram, sentence, last)\n",
    "            \n",
    "    return sentence\n",
    "\n",
    "#print(UnigramGenerate(a, [\"<s>\"], \"</s>\"))"
   ]
  },
  {
   "cell_type": "code",
   "execution_count": 89,
   "metadata": {},
   "outputs": [],
   "source": [
    "def BigramGenerate(bigram, sentence, last, count = None):\n",
    "    \n",
    "    if(count != 0 and sentence != last):\n",
    "        bigrams = []\n",
    "        \n",
    "    for word in bigram:\n",
    "        if word[0] == sentence[-1]:\n",
    "            bigrams[word] = bigram[word]\n",
    "            \n",
    "    if(bigrams == []):\n",
    "        return sentence \n",
    "    \n",
    "    weights = np.array(list(bigrams.values()))\n",
    "    norm = weights / np.sum(weights)\n",
    "    resample = np.random.multinomial(1, norm)\n",
    "    key = list(resample).index(1)\n",
    "    value = list(bigrams.keys())[key]\n",
    "    \n",
    "    sentence.append(value)\n",
    "    \n",
    "    if count != None:\n",
    "        BigramGenerate(bigram, sentence, last, count-1)\n",
    "    else:\n",
    "        BigramGenerate(bigram, sentence, last)\n",
    "        \n",
    "    return sentence\n",
    "\n",
    "#print(BigramGenerate(a, [\"<s>\"], \"</s>\"))"
   ]
  },
  {
   "cell_type": "code",
   "execution_count": 88,
   "metadata": {},
   "outputs": [],
   "source": [
    "def TrigramGenerate(bigram, trigram, sentence, last = \"\", count = None):\n",
    "    if(len(sentence) == 1):\n",
    "        sentence = BigramGenerate(bigram, sentence, last, count=1)\n",
    "        \n",
    "    if(count != 0 and sentence[-1] != last):\n",
    "        trigrams = []\n",
    "        \n",
    "        for word in trigram:\n",
    "            \n",
    "            if(word[0] == sentence[-2] and word[1] == sentence[-1]):\n",
    "                trigrams[word] = trigram[word]\n",
    "                \n",
    "        if(trigrams == []):\n",
    "            return sentence\n",
    "        \n",
    "        weights = np.array(list(bigrams.values()))\n",
    "        norm = weights / np.sum(weights)\n",
    "        resample = np.random.multinomial(1, norm)\n",
    "        key = list(resample).index(1)\n",
    "        value = list(bigrams.keys())[key] \n",
    "        \n",
    "        sentence.append(value[2])\n",
    "        if count != None:\n",
    "            TrigramGenerate(bigram, trigram, sentence, last, count-1)\n",
    "            \n",
    "        else:\n",
    "            TrigramGenerate(bigram, trigram, sentence, last)\n",
    "            \n",
    "            \n",
    "    return sentence\n",
    "\n",
    "#print(TrigramGenerate(b, c, [\"<s>\"], \"</s>\"))"
   ]
  },
  {
   "cell_type": "markdown",
   "metadata": {},
   "source": [
    "# References \n",
    "\n",
    "https://web.stanford.edu/~jurafsky/slp3/3.pdf"
   ]
  },
  {
   "cell_type": "code",
   "execution_count": null,
   "metadata": {},
   "outputs": [],
   "source": []
  }
 ],
 "metadata": {
  "kernelspec": {
   "display_name": "Python 3",
   "language": "python",
   "name": "python3"
  },
  "language_info": {
   "codemirror_mode": {
    "name": "ipython",
    "version": 3
   },
   "file_extension": ".py",
   "mimetype": "text/x-python",
   "name": "python",
   "nbconvert_exporter": "python",
   "pygments_lexer": "ipython3",
   "version": "3.8.5"
  }
 },
 "nbformat": 4,
 "nbformat_minor": 4
}
