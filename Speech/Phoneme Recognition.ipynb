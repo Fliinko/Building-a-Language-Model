{
 "cells": [
  {
   "cell_type": "code",
   "execution_count": 1,
   "id": "f83001f5",
   "metadata": {},
   "outputs": [],
   "source": [
    "import pandas as pd\n",
    "from sklearn.model_selection import train_test_split\n",
    "import matplotlib.pyplot as plt\n",
    "import itertools\n",
    "import numpy as np\n",
    "from sklearn import metrics\n",
    "from sklearn.metrics import confusion_matrix\n",
    "from sklearn.model_selection import GridSearchCV\n",
    "from sklearn.model_selection import RandomizedSearchCV\n",
    "from datetime import datetime\n",
    "from sklearn import neighbors"
   ]
  },
  {
   "cell_type": "markdown",
   "id": "8c99558d",
   "metadata": {},
   "source": [
    "# Feature Extraction"
   ]
  },
  {
   "cell_type": "code",
   "execution_count": 2,
   "id": "39c7e246",
   "metadata": {},
   "outputs": [
    {
     "name": "stdout",
     "output_type": "stream",
     "text": [
      "Reading the Data...\n",
      "    VowelPhoneme     Formant1     Formant2     Formant3\n",
      "0             IY   434.936633  2675.424694  3109.763299\n",
      "1             EH   764.290090  2352.944311  3135.745249\n",
      "2             UH   669.311088  1480.634263  2795.212672\n",
      "3             IY   334.539276  2399.227201  2953.039129\n",
      "4             EH   534.938773  2091.716984  2662.214150\n",
      "..           ...          ...          ...          ...\n",
      "145           EH   559.521241  2436.745638  3002.987180\n",
      "146           UH   420.846534  2039.074500  2756.119879\n",
      "147           IY   155.105185  2420.387305  3025.554969\n",
      "148           EH   534.411664  2109.610205  2916.112097\n",
      "149           UH  1569.345614  2549.187617  3349.469301\n",
      "\n",
      "[150 rows x 4 columns]\n",
      "Finished...\n"
     ]
    }
   ],
   "source": [
    "print(\"Reading the Data...\")\n",
    "\n",
    "data = pd.read_csv(\"rawdataset.csv\")\n",
    "\n",
    "data = data.drop(['Speaker Label'], axis = 1)\n",
    "data = data.drop(['Gender'], axis = 1)\n",
    "data = data.drop(['Word'], axis = 1)\n",
    "data = data.drop(['Class'], axis = 1)\n",
    "data = data.drop(['Time Marker'], axis = 1)\n",
    "\n",
    "print(data)\n",
    "print(\"Finished...\")"
   ]
  },
  {
   "cell_type": "markdown",
   "id": "f6ffa87b",
   "metadata": {},
   "source": [
    "# Modelling the Data"
   ]
  },
  {
   "cell_type": "markdown",
   "id": "9c64a112",
   "metadata": {},
   "source": [
    "## Splitting into Test and Training Sets"
   ]
  },
  {
   "cell_type": "code",
   "execution_count": 3,
   "id": "f73cb27c",
   "metadata": {},
   "outputs": [],
   "source": [
    "train, test = train_test_split(data, test_size= 0.25, shuffle=True)\n",
    "\n",
    "y_train = train.VowelPhoneme\n",
    "X_train = train.drop(['VowelPhoneme'], axis=1)\n",
    "y_test = test.VowelPhoneme\n",
    "X_test = test.drop(['VowelPhoneme'], axis=1)"
   ]
  },
  {
   "cell_type": "markdown",
   "id": "d5176d60",
   "metadata": {},
   "source": [
    "## Allowing the Plotting of a Confusion Matrix"
   ]
  },
  {
   "cell_type": "code",
   "execution_count": 4,
   "id": "f9016ca6",
   "metadata": {},
   "outputs": [],
   "source": [
    "def plot_confusion_matrix(cm, classes, normalize=False, title='Confusion Matrix', cmap=plt.cm.Blues):\n",
    "    if normalize:\n",
    "        cm = cm.astype('float') / cm.sum(axis=1)[:, np.newaxis]\n",
    "    \n",
    "    plt.imshow(cm, interpolation='nearest', cmap=cmap)\n",
    "    plt.title(title)\n",
    "    plt.colorbar()\n",
    "    tick_marks = np.arange(len(classes))\n",
    "    plt.xticks(tick_marks, classes, rotation=90)\n",
    "    plt.yticks(tick_marks, classes)\n",
    "    \n",
    "    fmt = '.2f' if normalize else 'd'\n",
    "    thresh = cm.max() / 2\n",
    "    \n",
    "    for i, j in itertools.product(range(cm.shape[0]), range(cm.shape[1])):\n",
    "        plt.text(j, i, format(cm[i, j], fmt), horizontalalignment=\"center\", color=\"white\" if cm[i, j] > thresh else \"black\")\n",
    "        \n",
    "    plt.tight_layout()\n",
    "    plt.ylabel('True Label')\n",
    "    plt.xlabel('Predicted Label')"
   ]
  },
  {
   "cell_type": "markdown",
   "id": "e20cec3e",
   "metadata": {},
   "source": [
    "## Allowing the Model to be Performed\n",
    "With additional helping prints"
   ]
  },
  {
   "cell_type": "code",
   "execution_count": 5,
   "id": "ee528370",
   "metadata": {},
   "outputs": [],
   "source": [
    "def perform_model(model, X_train, y_train, X_test, y_test, class_labels, cm_normalize=True, print_cm=True, cm_map=plt.cm.Greens):\n",
    "    # to store results at various phases\n",
    "    results = dict()\n",
    "    \n",
    "    # time at which model starts training\n",
    "    train_start_time = datetime.now()\n",
    "    print('training the model..')\n",
    "    model.fit(X_train, y_train)\n",
    "    print(\"Done\\n\\n\")\n",
    "    train_end_time = datetime.now()\n",
    "    results['training_time'] = train_end_time - train_start_time\n",
    "    print('training_time(HH:MM:SS.ms) - {}\\n\\n'.format(results['training_time']))\n",
    "    \n",
    "    # predict test data\n",
    "    print('Predicting test data')\n",
    "    test_start_time = datetime.now()\n",
    "    y_pred = model.predict(X_test)\n",
    "    test_end_time = datetime.now()\n",
    "    print('Done\\n\\n')\n",
    "    results['testing_time'] = test_end_time - test_start_time\n",
    "    print('testing_time(HH:MM:SS.ms) - {}\\n\\n'.format(results['testing_time']))\n",
    "    results['predicted'] = y_pred\n",
    "    \n",
    "    # calculate overall accuracty of the model\n",
    "    accuracy = metrics.accuracy_score(y_true=y_test, y_pred=y_pred)\n",
    "    # store accuracy in results\n",
    "    results['accuracy'] = accuracy\n",
    "    print('-----------------------')\n",
    "    print('|       Accuracy      |')\n",
    "    print('-----------------------')\n",
    "    print('\\n      {}\\n\\n'.format(accuracy))\n",
    "    \n",
    "    # confusion matrix\n",
    "    cm = metrics.confusion_matrix(y_test, y_pred)\n",
    "    results['confusion_matrix'] = cm\n",
    "    if print_cm:\n",
    "        print('-----------------------')\n",
    "        print('|   Confusion Matrix  |')\n",
    "        print('-----------------------')\n",
    "        print('\\n {}'.format(cm))\n",
    "    \n",
    "    # plot confusion matrix\n",
    "    plt.figure(figsize=(8,8))\n",
    "    plt.grid(b=False)\n",
    "    plot_confusion_matrix(cm, classes=class_labels, normalize=True, title='Normalized Confusion Matrix', cmap=cm_map)\n",
    "    plt.show()\n",
    "    \n",
    "    # get classification report\n",
    "    print('-----------------------------')\n",
    "    print('|   Classification Report   |')\n",
    "    print('-----------------------------')\n",
    "    classification_report = metrics.classification_report(y_test, y_pred)\n",
    "    \n",
    "    # store report in results\n",
    "    results['classification_report'] = classification_report\n",
    "    print(classification_report)\n",
    "    \n",
    "    # add the trained model to the results\n",
    "    results['model'] = model\n",
    "    \n",
    "    return results"
   ]
  },
  {
   "cell_type": "code",
   "execution_count": 11,
   "id": "2c7e55b4",
   "metadata": {},
   "outputs": [],
   "source": [
    "# function to print the gridsearch Attributes\n",
    "def print_grid_search_attributes(model):\n",
    "    # Estimator that gave highest score among all the estimators formed in GridSearch\n",
    "    print('-----------------------')\n",
    "    print('|    Best Estimator   |')\n",
    "    print('-----------------------')\n",
    "    print('\\n\\t{}\\n'.format(model.best_estimator_))\n",
    "    \n",
    "    # parameters that gave best results while performing grid search\n",
    "    print('-----------------------')\n",
    "    print('|   Best Parameters   |')\n",
    "    print('-----------------------')\n",
    "    print('\\tParameters of best estimator : \\n\\n\\t{}\\n'.format(model.best_params_))\n",
    "    \n",
    "    # number of cross validation splits\n",
    "    print('--------------------------------')\n",
    "    print('|  No of CrossValidation sets  |')\n",
    "    print('--------------------------------')\n",
    "    print('\\n\\tTotal number of cross validation sets: {}\\n'.format(model.n_splits_))\n",
    "    \n",
    "    # Average cross validated score of the best estimator, from the Grid Search\n",
    "    print('-----------------------')\n",
    "    print('|      Best Score     |')\n",
    "    print('-----------------------')\n",
    "    print('\\n\\tAverage Cross Validate scores of best estimator : \\n\\n\\t{}\\n'.format(model.best_score_))"
   ]
  },
  {
   "cell_type": "markdown",
   "id": "3b5f6095",
   "metadata": {},
   "source": [
    "## K Nearest Neighbours"
   ]
  },
  {
   "cell_type": "code",
   "execution_count": 14,
   "id": "2a32d2e6",
   "metadata": {},
   "outputs": [
    {
     "name": "stdout",
     "output_type": "stream",
     "text": [
      "training the model..\n",
      "Fitting 5 folds for each of 24 candidates, totalling 120 fits\n",
      "Done\n",
      "\n",
      "\n",
      "training_time(HH:MM:SS.ms) - 0:00:00.683000\n",
      "\n",
      "\n",
      "Predicting test data\n",
      "Done\n",
      "\n",
      "\n",
      "testing_time(HH:MM:SS.ms) - 0:00:00.005998\n",
      "\n",
      "\n",
      "-----------------------\n",
      "|       Accuracy      |\n",
      "-----------------------\n",
      "\n",
      "      0.9210526315789473\n",
      "\n",
      "\n",
      "-----------------------\n",
      "|   Confusion Matrix  |\n",
      "-----------------------\n",
      "\n",
      " [[13  0  0]\n",
      " [ 1 11  0]\n",
      " [ 2  0 11]]\n"
     ]
    },
    {
     "data": {
      "image/png": "[encoded data removed]",
      "text/plain": [
       "<Figure size 576x576 with 2 Axes>"
      ]
     },
     "metadata": {
      "needs_background": "light"
     },
     "output_type": "display_data"
    },
    {
     "name": "stdout",
     "output_type": "stream",
     "text": [
      "-----------------------------\n",
      "|   Classification Report   |\n",
      "-----------------------------\n",
      "              precision    recall  f1-score   support\n",
      "\n",
      "          EH       0.81      1.00      0.90        13\n",
      "          IY       1.00      0.92      0.96        12\n",
      "          UH       1.00      0.85      0.92        13\n",
      "\n",
      "    accuracy                           0.92        38\n",
      "   macro avg       0.94      0.92      0.92        38\n",
      "weighted avg       0.94      0.92      0.92        38\n",
      "\n"
     ]
    }
   ],
   "source": [
    "knn_params = {'n_neighbors':[1,2,3,4], 'weights': ['uniform','distance'], 'algorithm': ['ball_tree', 'kd_tree','brute']}\n",
    "labels = ['IY', 'EH', 'UH']\n",
    "knn_kernel = neighbors.KNeighborsClassifier()\n",
    "knn_grid = GridSearchCV(knn_kernel, param_grid=knn_params, n_jobs=-1, verbose=1)\n",
    "knn_grid_results = perform_model(knn_grid, X_train, y_train, X_test, y_test, class_labels = labels)"
   ]
  },
  {
   "cell_type": "code",
   "execution_count": 13,
   "id": "6b98e044",
   "metadata": {},
   "outputs": [
    {
     "name": "stdout",
     "output_type": "stream",
     "text": [
      "-----------------------\n",
      "|    Best Estimator   |\n",
      "-----------------------\n",
      "\n",
      "\tKNeighborsClassifier(algorithm='ball_tree', n_neighbors=2)\n",
      "\n",
      "-----------------------\n",
      "|   Best Parameters   |\n",
      "-----------------------\n",
      "\tParameters of best estimator : \n",
      "\n",
      "\t{'algorithm': 'ball_tree', 'n_neighbors': 2, 'weights': 'uniform'}\n",
      "\n",
      "--------------------------------\n",
      "|  No of CrossValidation sets  |\n",
      "--------------------------------\n",
      "\n",
      "\tTotal number of cross validation sets: 5\n",
      "\n",
      "-----------------------\n",
      "|      Best Score     |\n",
      "-----------------------\n",
      "\n",
      "\tAverage Cross Validate scores of best estimator : \n",
      "\n",
      "\t0.883399209486166\n",
      "\n"
     ]
    }
   ],
   "source": [
    "print_grid_search_attributes(knn_grid_results['model'])"
   ]
  },
  {
   "cell_type": "code",
   "execution_count": null,
   "id": "6921a1f1",
   "metadata": {},
   "outputs": [],
   "source": []
  }
 ],
 "metadata": {
  "kernelspec": {
   "display_name": "Python 3",
   "language": "python",
   "name": "python3"
  },
  "language_info": {
   "codemirror_mode": {
    "name": "ipython",
    "version": 3
   },
   "file_extension": ".py",
   "mimetype": "text/x-python",
   "name": "python",
   "nbconvert_exporter": "python",
   "pygments_lexer": "ipython3",
   "version": "3.8.8"
  }
 },
 "nbformat": 4,
 "nbformat_minor": 5
}
